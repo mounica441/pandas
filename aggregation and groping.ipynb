{
 "cells": [
  {
   "cell_type": "code",
   "execution_count": 1,
   "metadata": {},
   "outputs": [],
   "source": [
    "import pandas as pd"
   ]
  },
  {
   "cell_type": "code",
   "execution_count": 2,
   "metadata": {},
   "outputs": [],
   "source": [
    "df=pd.read_excel('housesales.xlsx')"
   ]
  },
  {
   "cell_type": "code",
   "execution_count": 3,
   "metadata": {},
   "outputs": [
    {
     "data": {
      "text/html": [
       "<div>\n",
       "<style scoped>\n",
       "    .dataframe tbody tr th:only-of-type {\n",
       "        vertical-align: middle;\n",
       "    }\n",
       "\n",
       "    .dataframe tbody tr th {\n",
       "        vertical-align: top;\n",
       "    }\n",
       "\n",
       "    .dataframe thead th {\n",
       "        text-align: right;\n",
       "    }\n",
       "</style>\n",
       "<table border=\"1\" class=\"dataframe\">\n",
       "  <thead>\n",
       "    <tr style=\"text-align: right;\">\n",
       "      <th></th>\n",
       "      <th>sqft</th>\n",
       "      <th>hometype</th>\n",
       "      <th>beds</th>\n",
       "      <th>baths</th>\n",
       "      <th>lotsize</th>\n",
       "      <th>yearbulit</th>\n",
       "      <th>daysonmarket</th>\n",
       "      <th>parkingtype</th>\n",
       "      <th>zip</th>\n",
       "      <th>listprice</th>\n",
       "    </tr>\n",
       "  </thead>\n",
       "  <tbody>\n",
       "    <tr>\n",
       "      <th>0</th>\n",
       "      <td>3040</td>\n",
       "      <td>Single Family Residential</td>\n",
       "      <td>4</td>\n",
       "      <td>3</td>\n",
       "      <td>54886</td>\n",
       "      <td>1961</td>\n",
       "      <td>349</td>\n",
       "      <td>1</td>\n",
       "      <td>80303</td>\n",
       "      <td>895.0</td>\n",
       "    </tr>\n",
       "    <tr>\n",
       "      <th>1</th>\n",
       "      <td>2920</td>\n",
       "      <td>Single Family Residential</td>\n",
       "      <td>3</td>\n",
       "      <td>3</td>\n",
       "      <td>38754</td>\n",
       "      <td>1966</td>\n",
       "      <td>81</td>\n",
       "      <td>1</td>\n",
       "      <td>80303</td>\n",
       "      <td>659.0</td>\n",
       "    </tr>\n",
       "  </tbody>\n",
       "</table>\n",
       "</div>"
      ],
      "text/plain": [
       "   sqft                   hometype  beds  baths  lotsize  yearbulit  \\\n",
       "0  3040  Single Family Residential     4      3    54886       1961   \n",
       "1  2920  Single Family Residential     3      3    38754       1966   \n",
       "\n",
       "   daysonmarket  parkingtype    zip  listprice  \n",
       "0           349            1  80303      895.0  \n",
       "1            81            1  80303      659.0  "
      ]
     },
     "execution_count": 3,
     "metadata": {},
     "output_type": "execute_result"
    }
   ],
   "source": [
    "df.head(2)"
   ]
  },
  {
   "cell_type": "markdown",
   "metadata": {},
   "source": [
    "## basic statistics"
   ]
  },
  {
   "cell_type": "raw",
   "metadata": {},
   "source": [
    "df.mi(\n",
    "df.max()\n",
    "    df.sum()\n",
    "    df.mean()\n",
    "    df.count()\n",
    "    df.std()\n",
    "    df.var()\n",
    "    df.quantile()\n",
    "    df.median()\n",
    "    df.describe()"
   ]
  },
  {
   "cell_type": "code",
   "execution_count": 4,
   "metadata": {},
   "outputs": [
    {
     "data": {
      "text/plain": [
       "7500.0"
      ]
     },
     "execution_count": 4,
     "metadata": {},
     "output_type": "execute_result"
    }
   ],
   "source": [
    "df['listprice'].max()"
   ]
  },
  {
   "cell_type": "code",
   "execution_count": 5,
   "metadata": {},
   "outputs": [
    {
     "data": {
      "text/plain": [
       "975.522562460288"
      ]
     },
     "execution_count": 5,
     "metadata": {},
     "output_type": "execute_result"
    }
   ],
   "source": [
    "df['listprice'].std()"
   ]
  },
  {
   "cell_type": "code",
   "execution_count": 6,
   "metadata": {},
   "outputs": [
    {
     "data": {
      "text/plain": [
       "127.969"
      ]
     },
     "execution_count": 6,
     "metadata": {},
     "output_type": "execute_result"
    }
   ],
   "source": [
    "df['listprice'].min()"
   ]
  },
  {
   "cell_type": "code",
   "execution_count": 7,
   "metadata": {},
   "outputs": [
    {
     "data": {
      "text/plain": [
       "256256.35600000003"
      ]
     },
     "execution_count": 7,
     "metadata": {},
     "output_type": "execute_result"
    }
   ],
   "source": [
    "df['listprice'].sum()"
   ]
  },
  {
   "cell_type": "code",
   "execution_count": 8,
   "metadata": {},
   "outputs": [
    {
     "data": {
      "text/plain": [
       "890.0"
      ]
     },
     "execution_count": 8,
     "metadata": {},
     "output_type": "execute_result"
    }
   ],
   "source": [
    "df['listprice'].median()"
   ]
  },
  {
   "cell_type": "code",
   "execution_count": 9,
   "metadata": {},
   "outputs": [
    {
     "data": {
      "text/plain": [
       "890.0"
      ]
     },
     "execution_count": 9,
     "metadata": {},
     "output_type": "execute_result"
    }
   ],
   "source": [
    "df['listprice'].quantile(0.50)"
   ]
  },
  {
   "cell_type": "code",
   "execution_count": 10,
   "metadata": {},
   "outputs": [
    {
     "data": {
      "text/plain": [
       "0.25     575.525\n",
       "0.50     890.000\n",
       "0.75    1390.500\n",
       "Name: listprice, dtype: float64"
      ]
     },
     "execution_count": 10,
     "metadata": {},
     "output_type": "execute_result"
    }
   ],
   "source": [
    "df['listprice'].quantile([0.25,0.50,0.75])"
   ]
  },
  {
   "cell_type": "code",
   "execution_count": 11,
   "metadata": {},
   "outputs": [
    {
     "data": {
      "text/plain": [
       "sqft             3116.486364\n",
       "beds                3.536364\n",
       "baths               2.945455\n",
       "lotsize         25296.900000\n",
       "yearbulit        1977.745455\n",
       "daysonmarket       84.495455\n",
       "parkingtype         0.900000\n",
       "zip             80303.109091\n",
       "listprice        1164.801618\n",
       "dtype: float64"
      ]
     },
     "execution_count": 11,
     "metadata": {},
     "output_type": "execute_result"
    }
   ],
   "source": [
    "df.mean()"
   ]
  },
  {
   "cell_type": "code",
   "execution_count": 12,
   "metadata": {},
   "outputs": [
    {
     "data": {
      "text/plain": [
       "sqft                466\n",
       "hometype          Condo\n",
       "beds                  1\n",
       "baths                 1\n",
       "lotsize               1\n",
       "yearbulit          1880\n",
       "daysonmarket          1\n",
       "parkingtype           0\n",
       "zip               80301\n",
       "listprice       127.969\n",
       "dtype: object"
      ]
     },
     "execution_count": 12,
     "metadata": {},
     "output_type": "execute_result"
    }
   ],
   "source": [
    "df.min()"
   ]
  },
  {
   "cell_type": "code",
   "execution_count": 13,
   "metadata": {},
   "outputs": [
    {
     "data": {
      "text/plain": [
       "sqft                10466\n",
       "hometype        Townhouse\n",
       "beds                    6\n",
       "baths                   6\n",
       "lotsize            435600\n",
       "yearbulit            2015\n",
       "daysonmarket         1308\n",
       "parkingtype             1\n",
       "zip                 80305\n",
       "listprice            7500\n",
       "dtype: object"
      ]
     },
     "execution_count": 13,
     "metadata": {},
     "output_type": "execute_result"
    }
   ],
   "source": [
    "df.max()"
   ]
  },
  {
   "cell_type": "code",
   "execution_count": 14,
   "metadata": {},
   "outputs": [
    {
     "data": {
      "text/plain": [
       "sqft            220\n",
       "hometype        220\n",
       "beds            220\n",
       "baths           220\n",
       "lotsize         220\n",
       "yearbulit       220\n",
       "daysonmarket    220\n",
       "parkingtype     220\n",
       "zip             220\n",
       "listprice       220\n",
       "dtype: int64"
      ]
     },
     "execution_count": 14,
     "metadata": {},
     "output_type": "execute_result"
    }
   ],
   "source": [
    "df.count()## number of non empy rows"
   ]
  },
  {
   "cell_type": "markdown",
   "metadata": {},
   "source": [
    "### groupby"
   ]
  },
  {
   "cell_type": "raw",
   "metadata": {},
   "source": [
    "df.groupby(by='colname' )"
   ]
  },
  {
   "cell_type": "code",
   "execution_count": 16,
   "metadata": {},
   "outputs": [
    {
     "data": {
      "text/html": [
       "<div>\n",
       "<style scoped>\n",
       "    .dataframe tbody tr th:only-of-type {\n",
       "        vertical-align: middle;\n",
       "    }\n",
       "\n",
       "    .dataframe tbody tr th {\n",
       "        vertical-align: top;\n",
       "    }\n",
       "\n",
       "    .dataframe thead th {\n",
       "        text-align: right;\n",
       "    }\n",
       "</style>\n",
       "<table border=\"1\" class=\"dataframe\">\n",
       "  <thead>\n",
       "    <tr style=\"text-align: right;\">\n",
       "      <th></th>\n",
       "      <th>sqft</th>\n",
       "      <th>hometype</th>\n",
       "      <th>beds</th>\n",
       "      <th>baths</th>\n",
       "      <th>lotsize</th>\n",
       "      <th>yearbulit</th>\n",
       "      <th>daysonmarket</th>\n",
       "      <th>parkingtype</th>\n",
       "      <th>zip</th>\n",
       "      <th>listprice</th>\n",
       "    </tr>\n",
       "  </thead>\n",
       "  <tbody>\n",
       "    <tr>\n",
       "      <th>0</th>\n",
       "      <td>3040</td>\n",
       "      <td>Single Family Residential</td>\n",
       "      <td>4</td>\n",
       "      <td>3</td>\n",
       "      <td>54886</td>\n",
       "      <td>1961</td>\n",
       "      <td>349</td>\n",
       "      <td>1</td>\n",
       "      <td>80303</td>\n",
       "      <td>895.0</td>\n",
       "    </tr>\n",
       "  </tbody>\n",
       "</table>\n",
       "</div>"
      ],
      "text/plain": [
       "   sqft                   hometype  beds  baths  lotsize  yearbulit  \\\n",
       "0  3040  Single Family Residential     4      3    54886       1961   \n",
       "\n",
       "   daysonmarket  parkingtype    zip  listprice  \n",
       "0           349            1  80303      895.0  "
      ]
     },
     "execution_count": 16,
     "metadata": {},
     "output_type": "execute_result"
    }
   ],
   "source": [
    "df.head(1)"
   ]
  },
  {
   "cell_type": "code",
   "execution_count": 20,
   "metadata": {},
   "outputs": [],
   "source": [
    "d=df.groupby(by='hometype').mean()"
   ]
  },
  {
   "cell_type": "code",
   "execution_count": 21,
   "metadata": {},
   "outputs": [
    {
     "data": {
      "text/html": [
       "<div>\n",
       "<style scoped>\n",
       "    .dataframe tbody tr th:only-of-type {\n",
       "        vertical-align: middle;\n",
       "    }\n",
       "\n",
       "    .dataframe tbody tr th {\n",
       "        vertical-align: top;\n",
       "    }\n",
       "\n",
       "    .dataframe thead th {\n",
       "        text-align: right;\n",
       "    }\n",
       "</style>\n",
       "<table border=\"1\" class=\"dataframe\">\n",
       "  <thead>\n",
       "    <tr style=\"text-align: right;\">\n",
       "      <th></th>\n",
       "      <th>sqft</th>\n",
       "      <th>beds</th>\n",
       "      <th>baths</th>\n",
       "      <th>lotsize</th>\n",
       "      <th>yearbulit</th>\n",
       "      <th>daysonmarket</th>\n",
       "      <th>parkingtype</th>\n",
       "      <th>zip</th>\n",
       "      <th>listprice</th>\n",
       "    </tr>\n",
       "    <tr>\n",
       "      <th>hometype</th>\n",
       "      <th></th>\n",
       "      <th></th>\n",
       "      <th></th>\n",
       "      <th></th>\n",
       "      <th></th>\n",
       "      <th></th>\n",
       "      <th></th>\n",
       "      <th></th>\n",
       "      <th></th>\n",
       "    </tr>\n",
       "  </thead>\n",
       "  <tbody>\n",
       "    <tr>\n",
       "      <th>Condo</th>\n",
       "      <td>1483.162162</td>\n",
       "      <td>1.756757</td>\n",
       "      <td>2.027027</td>\n",
       "      <td>24948.459459</td>\n",
       "      <td>1995.189189</td>\n",
       "      <td>151.243243</td>\n",
       "      <td>0.891892</td>\n",
       "      <td>80302.810811</td>\n",
       "      <td>588.209946</td>\n",
       "    </tr>\n",
       "    <tr>\n",
       "      <th>Single Family Residential</th>\n",
       "      <td>3520.982955</td>\n",
       "      <td>3.943182</td>\n",
       "      <td>3.159091</td>\n",
       "      <td>26150.062500</td>\n",
       "      <td>1973.778409</td>\n",
       "      <td>73.465909</td>\n",
       "      <td>0.897727</td>\n",
       "      <td>80303.193182</td>\n",
       "      <td>1313.724932</td>\n",
       "    </tr>\n",
       "    <tr>\n",
       "      <th>Townhouse</th>\n",
       "      <td>1579.571429</td>\n",
       "      <td>2.714286</td>\n",
       "      <td>2.428571</td>\n",
       "      <td>5687.714286</td>\n",
       "      <td>1985.285714</td>\n",
       "      <td>9.000000</td>\n",
       "      <td>1.000000</td>\n",
       "      <td>80302.571429</td>\n",
       "      <td>468.142857</td>\n",
       "    </tr>\n",
       "  </tbody>\n",
       "</table>\n",
       "</div>"
      ],
      "text/plain": [
       "                                  sqft      beds     baths       lotsize  \\\n",
       "hometype                                                                   \n",
       "Condo                      1483.162162  1.756757  2.027027  24948.459459   \n",
       "Single Family Residential  3520.982955  3.943182  3.159091  26150.062500   \n",
       "Townhouse                  1579.571429  2.714286  2.428571   5687.714286   \n",
       "\n",
       "                             yearbulit  daysonmarket  parkingtype  \\\n",
       "hometype                                                            \n",
       "Condo                      1995.189189    151.243243     0.891892   \n",
       "Single Family Residential  1973.778409     73.465909     0.897727   \n",
       "Townhouse                  1985.285714      9.000000     1.000000   \n",
       "\n",
       "                                    zip    listprice  \n",
       "hometype                                              \n",
       "Condo                      80302.810811   588.209946  \n",
       "Single Family Residential  80303.193182  1313.724932  \n",
       "Townhouse                  80302.571429   468.142857  "
      ]
     },
     "execution_count": 21,
     "metadata": {},
     "output_type": "execute_result"
    }
   ],
   "source": [
    "d"
   ]
  },
  {
   "cell_type": "code",
   "execution_count": 23,
   "metadata": {},
   "outputs": [
    {
     "data": {
      "text/html": [
       "<div>\n",
       "<style scoped>\n",
       "    .dataframe tbody tr th:only-of-type {\n",
       "        vertical-align: middle;\n",
       "    }\n",
       "\n",
       "    .dataframe tbody tr th {\n",
       "        vertical-align: top;\n",
       "    }\n",
       "\n",
       "    .dataframe thead th {\n",
       "        text-align: right;\n",
       "    }\n",
       "</style>\n",
       "<table border=\"1\" class=\"dataframe\">\n",
       "  <thead>\n",
       "    <tr style=\"text-align: right;\">\n",
       "      <th></th>\n",
       "      <th>sqft</th>\n",
       "      <th>listprice</th>\n",
       "      <th>lotsize</th>\n",
       "    </tr>\n",
       "    <tr>\n",
       "      <th>hometype</th>\n",
       "      <th></th>\n",
       "      <th></th>\n",
       "      <th></th>\n",
       "    </tr>\n",
       "  </thead>\n",
       "  <tbody>\n",
       "    <tr>\n",
       "      <th>Condo</th>\n",
       "      <td>1483.162162</td>\n",
       "      <td>588.209946</td>\n",
       "      <td>24948.459459</td>\n",
       "    </tr>\n",
       "    <tr>\n",
       "      <th>Single Family Residential</th>\n",
       "      <td>3520.982955</td>\n",
       "      <td>1313.724932</td>\n",
       "      <td>26150.062500</td>\n",
       "    </tr>\n",
       "    <tr>\n",
       "      <th>Townhouse</th>\n",
       "      <td>1579.571429</td>\n",
       "      <td>468.142857</td>\n",
       "      <td>5687.714286</td>\n",
       "    </tr>\n",
       "  </tbody>\n",
       "</table>\n",
       "</div>"
      ],
      "text/plain": [
       "                                  sqft    listprice       lotsize\n",
       "hometype                                                         \n",
       "Condo                      1483.162162   588.209946  24948.459459\n",
       "Single Family Residential  3520.982955  1313.724932  26150.062500\n",
       "Townhouse                  1579.571429   468.142857   5687.714286"
      ]
     },
     "execution_count": 23,
     "metadata": {},
     "output_type": "execute_result"
    }
   ],
   "source": [
    "df.groupby(by='hometype')['sqft','listprice','lotsize'].mean()"
   ]
  },
  {
   "cell_type": "code",
   "execution_count": 24,
   "metadata": {},
   "outputs": [
    {
     "data": {
      "text/html": [
       "<div>\n",
       "<style scoped>\n",
       "    .dataframe tbody tr th:only-of-type {\n",
       "        vertical-align: middle;\n",
       "    }\n",
       "\n",
       "    .dataframe tbody tr th {\n",
       "        vertical-align: top;\n",
       "    }\n",
       "\n",
       "    .dataframe thead th {\n",
       "        text-align: right;\n",
       "    }\n",
       "</style>\n",
       "<table border=\"1\" class=\"dataframe\">\n",
       "  <thead>\n",
       "    <tr style=\"text-align: right;\">\n",
       "      <th></th>\n",
       "      <th>sqft</th>\n",
       "      <th>hometype</th>\n",
       "      <th>beds</th>\n",
       "      <th>baths</th>\n",
       "      <th>lotsize</th>\n",
       "      <th>yearbulit</th>\n",
       "      <th>daysonmarket</th>\n",
       "      <th>parkingtype</th>\n",
       "      <th>zip</th>\n",
       "      <th>listprice</th>\n",
       "    </tr>\n",
       "  </thead>\n",
       "  <tbody>\n",
       "    <tr>\n",
       "      <th>0</th>\n",
       "      <td>3040</td>\n",
       "      <td>Single Family Residential</td>\n",
       "      <td>4</td>\n",
       "      <td>3</td>\n",
       "      <td>54886</td>\n",
       "      <td>1961</td>\n",
       "      <td>349</td>\n",
       "      <td>1</td>\n",
       "      <td>80303</td>\n",
       "      <td>895.0</td>\n",
       "    </tr>\n",
       "    <tr>\n",
       "      <th>1</th>\n",
       "      <td>2920</td>\n",
       "      <td>Single Family Residential</td>\n",
       "      <td>3</td>\n",
       "      <td>3</td>\n",
       "      <td>38754</td>\n",
       "      <td>1966</td>\n",
       "      <td>81</td>\n",
       "      <td>1</td>\n",
       "      <td>80303</td>\n",
       "      <td>659.0</td>\n",
       "    </tr>\n",
       "  </tbody>\n",
       "</table>\n",
       "</div>"
      ],
      "text/plain": [
       "   sqft                   hometype  beds  baths  lotsize  yearbulit  \\\n",
       "0  3040  Single Family Residential     4      3    54886       1961   \n",
       "1  2920  Single Family Residential     3      3    38754       1966   \n",
       "\n",
       "   daysonmarket  parkingtype    zip  listprice  \n",
       "0           349            1  80303      895.0  \n",
       "1            81            1  80303      659.0  "
      ]
     },
     "execution_count": 24,
     "metadata": {},
     "output_type": "execute_result"
    }
   ],
   "source": [
    "df.head(2)"
   ]
  },
  {
   "cell_type": "code",
   "execution_count": 29,
   "metadata": {},
   "outputs": [
    {
     "data": {
      "text/plain": [
       "zip    baths\n",
       "80301  1          129.900\n",
       "       2         1863.850\n",
       "       3         5545.038\n",
       "       4         5491.600\n",
       "       5         2919.000\n",
       "80302  1         4854.150\n",
       "       2        18534.800\n",
       "       3        28198.600\n",
       "       4        15008.000\n",
       "       5         7084.000\n",
       "       6         3875.000\n",
       "80303  1         2294.399\n",
       "       2         9466.200\n",
       "       3         8664.100\n",
       "       4         5903.000\n",
       "       5         9289.000\n",
       "       6         1965.000\n",
       "80304  1         3442.369\n",
       "       2        12562.300\n",
       "       3        28600.750\n",
       "       4        30820.400\n",
       "       5         9586.000\n",
       "       6        20430.000\n",
       "80305  1          889.000\n",
       "       2         5402.600\n",
       "       3         7492.300\n",
       "       4         3150.000\n",
       "       5         2795.000\n",
       "Name: listprice, dtype: float64"
      ]
     },
     "execution_count": 29,
     "metadata": {},
     "output_type": "execute_result"
    }
   ],
   "source": [
    "## caluculate zip baths avg listprice\n",
    "df.groupby(by=['zip','baths'])['listprice'].sum()"
   ]
  },
  {
   "cell_type": "code",
   "execution_count": 30,
   "metadata": {},
   "outputs": [],
   "source": [
    "import numpy as np"
   ]
  },
  {
   "cell_type": "code",
   "execution_count": 34,
   "metadata": {},
   "outputs": [
    {
     "data": {
      "text/html": [
       "<div>\n",
       "<style scoped>\n",
       "    .dataframe tbody tr th:only-of-type {\n",
       "        vertical-align: middle;\n",
       "    }\n",
       "\n",
       "    .dataframe tbody tr th {\n",
       "        vertical-align: top;\n",
       "    }\n",
       "\n",
       "    .dataframe thead th {\n",
       "        text-align: right;\n",
       "    }\n",
       "</style>\n",
       "<table border=\"1\" class=\"dataframe\">\n",
       "  <thead>\n",
       "    <tr style=\"text-align: right;\">\n",
       "      <th></th>\n",
       "      <th></th>\n",
       "      <th>mean</th>\n",
       "      <th>sum</th>\n",
       "      <th>min</th>\n",
       "      <th>max</th>\n",
       "    </tr>\n",
       "    <tr>\n",
       "      <th>hometype</th>\n",
       "      <th>zip</th>\n",
       "      <th></th>\n",
       "      <th></th>\n",
       "      <th></th>\n",
       "      <th></th>\n",
       "    </tr>\n",
       "  </thead>\n",
       "  <tbody>\n",
       "    <tr>\n",
       "      <th rowspan=\"4\" valign=\"top\">Condo</th>\n",
       "      <th>80301</th>\n",
       "      <td>182.375000</td>\n",
       "      <td>364.750</td>\n",
       "      <td>129.900</td>\n",
       "      <td>234.85</td>\n",
       "    </tr>\n",
       "    <tr>\n",
       "      <th>80302</th>\n",
       "      <td>731.179167</td>\n",
       "      <td>8774.150</td>\n",
       "      <td>162.400</td>\n",
       "      <td>1950.00</td>\n",
       "    </tr>\n",
       "    <tr>\n",
       "      <th>80303</th>\n",
       "      <td>385.921357</td>\n",
       "      <td>5402.899</td>\n",
       "      <td>138.500</td>\n",
       "      <td>1389.00</td>\n",
       "    </tr>\n",
       "    <tr>\n",
       "      <th>80304</th>\n",
       "      <td>802.441000</td>\n",
       "      <td>7221.969</td>\n",
       "      <td>127.969</td>\n",
       "      <td>1375.00</td>\n",
       "    </tr>\n",
       "    <tr>\n",
       "      <th rowspan=\"5\" valign=\"top\">Single Family Residential</th>\n",
       "      <th>80301</th>\n",
       "      <td>870.625765</td>\n",
       "      <td>14800.638</td>\n",
       "      <td>319.500</td>\n",
       "      <td>2399.00</td>\n",
       "    </tr>\n",
       "    <tr>\n",
       "      <th>80302</th>\n",
       "      <td>1613.842857</td>\n",
       "      <td>67781.400</td>\n",
       "      <td>575.000</td>\n",
       "      <td>4250.00</td>\n",
       "    </tr>\n",
       "    <tr>\n",
       "      <th>80303</th>\n",
       "      <td>1134.278571</td>\n",
       "      <td>31759.800</td>\n",
       "      <td>449.900</td>\n",
       "      <td>6499.00</td>\n",
       "    </tr>\n",
       "    <tr>\n",
       "      <th>80304</th>\n",
       "      <td>1434.703676</td>\n",
       "      <td>97559.850</td>\n",
       "      <td>485.000</td>\n",
       "      <td>7500.00</td>\n",
       "    </tr>\n",
       "    <tr>\n",
       "      <th>80305</th>\n",
       "      <td>919.709524</td>\n",
       "      <td>19313.900</td>\n",
       "      <td>410.000</td>\n",
       "      <td>2795.00</td>\n",
       "    </tr>\n",
       "    <tr>\n",
       "      <th rowspan=\"5\" valign=\"top\">Townhouse</th>\n",
       "      <th>80301</th>\n",
       "      <td>392.000000</td>\n",
       "      <td>784.000</td>\n",
       "      <td>369.000</td>\n",
       "      <td>415.00</td>\n",
       "    </tr>\n",
       "    <tr>\n",
       "      <th>80302</th>\n",
       "      <td>499.500000</td>\n",
       "      <td>999.000</td>\n",
       "      <td>474.000</td>\n",
       "      <td>525.00</td>\n",
       "    </tr>\n",
       "    <tr>\n",
       "      <th>80303</th>\n",
       "      <td>419.000000</td>\n",
       "      <td>419.000</td>\n",
       "      <td>419.000</td>\n",
       "      <td>419.00</td>\n",
       "    </tr>\n",
       "    <tr>\n",
       "      <th>80304</th>\n",
       "      <td>660.000000</td>\n",
       "      <td>660.000</td>\n",
       "      <td>660.000</td>\n",
       "      <td>660.00</td>\n",
       "    </tr>\n",
       "    <tr>\n",
       "      <th>80305</th>\n",
       "      <td>415.000000</td>\n",
       "      <td>415.000</td>\n",
       "      <td>415.000</td>\n",
       "      <td>415.00</td>\n",
       "    </tr>\n",
       "  </tbody>\n",
       "</table>\n",
       "</div>"
      ],
      "text/plain": [
       "                                        mean        sum      min      max\n",
       "hometype                  zip                                            \n",
       "Condo                     80301   182.375000    364.750  129.900   234.85\n",
       "                          80302   731.179167   8774.150  162.400  1950.00\n",
       "                          80303   385.921357   5402.899  138.500  1389.00\n",
       "                          80304   802.441000   7221.969  127.969  1375.00\n",
       "Single Family Residential 80301   870.625765  14800.638  319.500  2399.00\n",
       "                          80302  1613.842857  67781.400  575.000  4250.00\n",
       "                          80303  1134.278571  31759.800  449.900  6499.00\n",
       "                          80304  1434.703676  97559.850  485.000  7500.00\n",
       "                          80305   919.709524  19313.900  410.000  2795.00\n",
       "Townhouse                 80301   392.000000    784.000  369.000   415.00\n",
       "                          80302   499.500000    999.000  474.000   525.00\n",
       "                          80303   419.000000    419.000  419.000   419.00\n",
       "                          80304   660.000000    660.000  660.000   660.00\n",
       "                          80305   415.000000    415.000  415.000   415.00"
      ]
     },
     "execution_count": 34,
     "metadata": {},
     "output_type": "execute_result"
    }
   ],
   "source": [
    "df.groupby(by=['hometype','zip'])['listprice'].agg(['mean','sum','min','max'])"
   ]
  },
  {
   "cell_type": "raw",
   "metadata": {},
   "source": [
    "df.describe"
   ]
  },
  {
   "cell_type": "markdown",
   "metadata": {},
   "source": [
    "pivot table"
   ]
  },
  {
   "cell_type": "raw",
   "metadata": {},
   "source": [
    "pd.pivot_tabel(data,values=none,\n",
    "              index=none,\n",
    "              columns=none,aggfunc=)"
   ]
  },
  {
   "cell_type": "code",
   "execution_count": 38,
   "metadata": {},
   "outputs": [
    {
     "data": {
      "text/html": [
       "<div>\n",
       "<style scoped>\n",
       "    .dataframe tbody tr th:only-of-type {\n",
       "        vertical-align: middle;\n",
       "    }\n",
       "\n",
       "    .dataframe tbody tr th {\n",
       "        vertical-align: top;\n",
       "    }\n",
       "\n",
       "    .dataframe thead th {\n",
       "        text-align: right;\n",
       "    }\n",
       "</style>\n",
       "<table border=\"1\" class=\"dataframe\">\n",
       "  <thead>\n",
       "    <tr style=\"text-align: right;\">\n",
       "      <th></th>\n",
       "      <th>listprice</th>\n",
       "    </tr>\n",
       "    <tr>\n",
       "      <th>hometype</th>\n",
       "      <th></th>\n",
       "    </tr>\n",
       "  </thead>\n",
       "  <tbody>\n",
       "    <tr>\n",
       "      <th>Condo</th>\n",
       "      <td>588.209946</td>\n",
       "    </tr>\n",
       "    <tr>\n",
       "      <th>Single Family Residential</th>\n",
       "      <td>1313.724932</td>\n",
       "    </tr>\n",
       "    <tr>\n",
       "      <th>Townhouse</th>\n",
       "      <td>468.142857</td>\n",
       "    </tr>\n",
       "  </tbody>\n",
       "</table>\n",
       "</div>"
      ],
      "text/plain": [
       "                             listprice\n",
       "hometype                              \n",
       "Condo                       588.209946\n",
       "Single Family Residential  1313.724932\n",
       "Townhouse                   468.142857"
      ]
     },
     "execution_count": 38,
     "metadata": {},
     "output_type": "execute_result"
    }
   ],
   "source": [
    "pd.pivot_table(df,values='listprice',index='hometype')"
   ]
  },
  {
   "cell_type": "code",
   "execution_count": 43,
   "metadata": {},
   "outputs": [
    {
     "data": {
      "text/html": [
       "<div>\n",
       "<style scoped>\n",
       "    .dataframe tbody tr th:only-of-type {\n",
       "        vertical-align: middle;\n",
       "    }\n",
       "\n",
       "    .dataframe tbody tr th {\n",
       "        vertical-align: top;\n",
       "    }\n",
       "\n",
       "    .dataframe thead th {\n",
       "        text-align: right;\n",
       "    }\n",
       "</style>\n",
       "<table border=\"1\" class=\"dataframe\">\n",
       "  <thead>\n",
       "    <tr style=\"text-align: right;\">\n",
       "      <th>parkingtype</th>\n",
       "      <th>0</th>\n",
       "      <th>1</th>\n",
       "    </tr>\n",
       "  </thead>\n",
       "  <tbody>\n",
       "    <tr>\n",
       "      <th>listprice</th>\n",
       "      <td>758.936364</td>\n",
       "      <td>1209.897758</td>\n",
       "    </tr>\n",
       "  </tbody>\n",
       "</table>\n",
       "</div>"
      ],
      "text/plain": [
       "parkingtype           0            1\n",
       "listprice    758.936364  1209.897758"
      ]
     },
     "execution_count": 43,
     "metadata": {},
     "output_type": "execute_result"
    }
   ],
   "source": [
    "pd.pivot_table(df,values='listprice',columns='parkingtype')"
   ]
  },
  {
   "cell_type": "code",
   "execution_count": 42,
   "metadata": {},
   "outputs": [
    {
     "data": {
      "text/html": [
       "<div>\n",
       "<style scoped>\n",
       "    .dataframe tbody tr th:only-of-type {\n",
       "        vertical-align: middle;\n",
       "    }\n",
       "\n",
       "    .dataframe tbody tr th {\n",
       "        vertical-align: top;\n",
       "    }\n",
       "\n",
       "    .dataframe thead tr th {\n",
       "        text-align: left;\n",
       "    }\n",
       "\n",
       "    .dataframe thead tr:last-of-type th {\n",
       "        text-align: right;\n",
       "    }\n",
       "</style>\n",
       "<table border=\"1\" class=\"dataframe\">\n",
       "  <thead>\n",
       "    <tr>\n",
       "      <th></th>\n",
       "      <th colspan=\"2\" halign=\"left\">listprice</th>\n",
       "      <th colspan=\"2\" halign=\"left\">sqft</th>\n",
       "    </tr>\n",
       "    <tr>\n",
       "      <th>parkingtype</th>\n",
       "      <th>0</th>\n",
       "      <th>1</th>\n",
       "      <th>0</th>\n",
       "      <th>1</th>\n",
       "    </tr>\n",
       "    <tr>\n",
       "      <th>hometype</th>\n",
       "      <th></th>\n",
       "      <th></th>\n",
       "      <th></th>\n",
       "      <th></th>\n",
       "    </tr>\n",
       "  </thead>\n",
       "  <tbody>\n",
       "    <tr>\n",
       "      <th>Condo</th>\n",
       "      <td>185.100000</td>\n",
       "      <td>637.071758</td>\n",
       "      <td>678.000000</td>\n",
       "      <td>1580.757576</td>\n",
       "    </tr>\n",
       "    <tr>\n",
       "      <th>Single Family Residential</th>\n",
       "      <td>886.455556</td>\n",
       "      <td>1362.401190</td>\n",
       "      <td>1966.111111</td>\n",
       "      <td>3698.120253</td>\n",
       "    </tr>\n",
       "    <tr>\n",
       "      <th>Townhouse</th>\n",
       "      <td>NaN</td>\n",
       "      <td>468.142857</td>\n",
       "      <td>NaN</td>\n",
       "      <td>1579.571429</td>\n",
       "    </tr>\n",
       "  </tbody>\n",
       "</table>\n",
       "</div>"
      ],
      "text/plain": [
       "                            listprice                      sqft             \n",
       "parkingtype                         0            1            0            1\n",
       "hometype                                                                    \n",
       "Condo                      185.100000   637.071758   678.000000  1580.757576\n",
       "Single Family Residential  886.455556  1362.401190  1966.111111  3698.120253\n",
       "Townhouse                         NaN   468.142857          NaN  1579.571429"
      ]
     },
     "execution_count": 42,
     "metadata": {},
     "output_type": "execute_result"
    }
   ],
   "source": [
    "pd.pivot_table(df,values=['listprice','sqft'],index='hometype',columns='parkingtype')"
   ]
  },
  {
   "cell_type": "raw",
   "metadata": {},
   "source": [
    "dffg"
   ]
  },
  {
   "cell_type": "code",
   "execution_count": 44,
   "metadata": {},
   "outputs": [
    {
     "data": {
      "text/html": [
       "<div>\n",
       "<style scoped>\n",
       "    .dataframe tbody tr th:only-of-type {\n",
       "        vertical-align: middle;\n",
       "    }\n",
       "\n",
       "    .dataframe tbody tr th {\n",
       "        vertical-align: top;\n",
       "    }\n",
       "\n",
       "    .dataframe thead th {\n",
       "        text-align: right;\n",
       "    }\n",
       "</style>\n",
       "<table border=\"1\" class=\"dataframe\">\n",
       "  <thead>\n",
       "    <tr style=\"text-align: right;\">\n",
       "      <th></th>\n",
       "      <th>sqft</th>\n",
       "      <th>hometype</th>\n",
       "      <th>beds</th>\n",
       "      <th>baths</th>\n",
       "      <th>lotsize</th>\n",
       "      <th>yearbulit</th>\n",
       "      <th>daysonmarket</th>\n",
       "      <th>parkingtype</th>\n",
       "      <th>zip</th>\n",
       "      <th>listprice</th>\n",
       "    </tr>\n",
       "  </thead>\n",
       "  <tbody>\n",
       "    <tr>\n",
       "      <th>0</th>\n",
       "      <td>3040</td>\n",
       "      <td>Single Family Residential</td>\n",
       "      <td>4</td>\n",
       "      <td>3</td>\n",
       "      <td>54886</td>\n",
       "      <td>1961</td>\n",
       "      <td>349</td>\n",
       "      <td>1</td>\n",
       "      <td>80303</td>\n",
       "      <td>895.0</td>\n",
       "    </tr>\n",
       "    <tr>\n",
       "      <th>1</th>\n",
       "      <td>2920</td>\n",
       "      <td>Single Family Residential</td>\n",
       "      <td>3</td>\n",
       "      <td>3</td>\n",
       "      <td>38754</td>\n",
       "      <td>1966</td>\n",
       "      <td>81</td>\n",
       "      <td>1</td>\n",
       "      <td>80303</td>\n",
       "      <td>659.0</td>\n",
       "    </tr>\n",
       "  </tbody>\n",
       "</table>\n",
       "</div>"
      ],
      "text/plain": [
       "   sqft                   hometype  beds  baths  lotsize  yearbulit  \\\n",
       "0  3040  Single Family Residential     4      3    54886       1961   \n",
       "1  2920  Single Family Residential     3      3    38754       1966   \n",
       "\n",
       "   daysonmarket  parkingtype    zip  listprice  \n",
       "0           349            1  80303      895.0  \n",
       "1            81            1  80303      659.0  "
      ]
     },
     "execution_count": 44,
     "metadata": {},
     "output_type": "execute_result"
    }
   ],
   "source": [
    "df.head(2)"
   ]
  },
  {
   "cell_type": "code",
   "execution_count": 48,
   "metadata": {},
   "outputs": [
    {
     "data": {
      "text/html": [
       "<div>\n",
       "<style scoped>\n",
       "    .dataframe tbody tr th:only-of-type {\n",
       "        vertical-align: middle;\n",
       "    }\n",
       "\n",
       "    .dataframe tbody tr th {\n",
       "        vertical-align: top;\n",
       "    }\n",
       "\n",
       "    .dataframe thead th {\n",
       "        text-align: right;\n",
       "    }\n",
       "</style>\n",
       "<table border=\"1\" class=\"dataframe\">\n",
       "  <thead>\n",
       "    <tr style=\"text-align: right;\">\n",
       "      <th></th>\n",
       "      <th>daysonmarket</th>\n",
       "    </tr>\n",
       "    <tr>\n",
       "      <th>hometype</th>\n",
       "      <th></th>\n",
       "    </tr>\n",
       "  </thead>\n",
       "  <tbody>\n",
       "    <tr>\n",
       "      <th>Condo</th>\n",
       "      <td>3</td>\n",
       "    </tr>\n",
       "    <tr>\n",
       "      <th>Single Family Residential</th>\n",
       "      <td>1</td>\n",
       "    </tr>\n",
       "    <tr>\n",
       "      <th>Townhouse</th>\n",
       "      <td>2</td>\n",
       "    </tr>\n",
       "  </tbody>\n",
       "</table>\n",
       "</div>"
      ],
      "text/plain": [
       "                           daysonmarket\n",
       "hometype                               \n",
       "Condo                                 3\n",
       "Single Family Residential             1\n",
       "Townhouse                             2"
      ]
     },
     "execution_count": 48,
     "metadata": {},
     "output_type": "execute_result"
    }
   ],
   "source": [
    "##minimum days on the market by home type\n",
    "pd.pivot_table(data=df,values='daysonmarket',index='hometype',aggfunc=np.min)"
   ]
  },
  {
   "cell_type": "code",
   "execution_count": null,
   "metadata": {},
   "outputs": [],
   "source": []
  }
 ],
 "metadata": {
  "kernelspec": {
   "display_name": "Python 3",
   "language": "python",
   "name": "python3"
  },
  "language_info": {
   "codemirror_mode": {
    "name": "ipython",
    "version": 3
   },
   "file_extension": ".py",
   "mimetype": "text/x-python",
   "name": "python",
   "nbconvert_exporter": "python",
   "pygments_lexer": "ipython3",
   "version": "3.7.3"
  }
 },
 "nbformat": 4,
 "nbformat_minor": 2
}
